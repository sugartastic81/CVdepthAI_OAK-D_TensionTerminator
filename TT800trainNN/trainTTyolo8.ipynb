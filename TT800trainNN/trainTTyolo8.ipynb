{
  "cells": [
    {
      "cell_type": "markdown",
      "metadata": {
        "id": "view-in-github",
        "colab_type": "text"
      },
      "source": [
        "<a href=\"https://colab.research.google.com/github/Block-Tschain/ig-projekt-1-Tschaein/blob/main/trainTTyolo8.ipynb\" target=\"_parent\"><img src=\"https://colab.research.google.com/assets/colab-badge.svg\" alt=\"Open In Colab\"/></a>"
      ]
    },
    {
      "cell_type": "markdown",
      "metadata": {
        "id": "3uS09ZNwKECB"
      },
      "source": [
        "# Tension Terminator Yolo 8 Transferlearning"
      ]
    },
    {
      "cell_type": "markdown",
      "metadata": {
        "id": "v6oOLqn3KHhd"
      },
      "source": [
        "## Set global variables"
      ]
    },
    {
      "cell_type": "code",
      "execution_count": null,
      "metadata": {
        "colab": {
          "background_save": true
        },
        "id": "53bk4AfDHgwC"
      },
      "outputs": [],
      "source": [
        "# Set Variables\n",
        "BASE_MODEL = \"yolov8m\"\n",
        "TRAIN_EPOCHS = 100\n",
        "TRAIN_SIZE = 320\n",
        "\n",
        "TT_PROJECTNAME = \"TensionTerminator\""
      ]
    },
    {
      "cell_type": "markdown",
      "metadata": {
        "id": "XPUOtYhhKNlB"
      },
      "source": [
        "## Mount Google Drive to backup files"
      ]
    },
    {
      "cell_type": "code",
      "execution_count": null,
      "metadata": {
        "id": "omxpCI1T8LQW"
      },
      "outputs": [],
      "source": [
        "# Mount Google Drive\n",
        "from google.colab import drive\n",
        "import os\n",
        "\n",
        "drive.mount('/content/drive')\n",
        "\n",
        "google_drive_target_folder = '/content/drive/My Drive/'+TT_PROJECTNAME+'/'\n",
        "# Check if the target folder exists in Google Drive, create if it doesn't\n",
        "if not os.path.exists(google_drive_target_folder):\n",
        "    os.makedirs(google_drive_target_folder)\n",
        "    print(f\"Created folder: {google_drive_target_folder}\")\n",
        "print(\"Google Drive Target Folder: \" + google_drive_target_folder)"
      ]
    },
    {
      "cell_type": "markdown",
      "metadata": {
        "id": "MeqSTqCHJ-G_"
      },
      "source": [
        "# Install Dependencies"
      ]
    },
    {
      "cell_type": "code",
      "execution_count": null,
      "metadata": {
        "id": "kJrqKRf8ij3M"
      },
      "outputs": [],
      "source": [
        "pip install ultralytics"
      ]
    },
    {
      "cell_type": "code",
      "execution_count": null,
      "metadata": {
        "id": "4soDdxAsimIQ"
      },
      "outputs": [],
      "source": [
        "!pip install roboflow"
      ]
    },
    {
      "cell_type": "markdown",
      "metadata": {
        "id": "yx-ImOF_MRC2"
      },
      "source": [
        "## Python imports"
      ]
    },
    {
      "cell_type": "code",
      "execution_count": null,
      "metadata": {
        "id": "FDcSiZ21MOpM"
      },
      "outputs": [],
      "source": [
        "import os\n",
        "import random\n",
        "import yaml\n",
        "import shutil\n",
        "from ultralytics import YOLO\n",
        "from google.colab import userdata, files\n",
        "from datetime import datetime\n",
        "from ultralytics.utils.benchmarks import benchmark\n",
        "from roboflow import Roboflow"
      ]
    },
    {
      "cell_type": "markdown",
      "metadata": {
        "id": "lkt08WKPKVZX"
      },
      "source": [
        "## Loading dataset to train on"
      ]
    },
    {
      "cell_type": "code",
      "execution_count": null,
      "metadata": {
        "id": "lFEk9XpFiXNB"
      },
      "outputs": [],
      "source": [
        "secret_key = userdata.get('rb-key')\n",
        "\n",
        "rf = Roboflow(api_key=secret_key)\n",
        "project = rf.workspace(\"juzaworkspace-wzpkn\").project(\"overheadpersondetection\")\n",
        "dataset = project.version(4).download(\"yolov8\")\n",
        "\n",
        "DATASET_DIR = dataset.location\n",
        "DATA_YAML = DATASET_DIR + \"/data.yaml\"\n",
        "print(\"\\n\\info\")\n",
        "print(\"Data saved to: \" + DATASET_DIR)\n",
        "print(\"Data YAML: \" + DATA_YAML)"
      ]
    },
    {
      "cell_type": "markdown",
      "metadata": {
        "id": "M01um3xKBUtk"
      },
      "source": [
        "There is a bug in the data.yaml of robfolow yolov8. This script corrects it."
      ]
    },
    {
      "cell_type": "code",
      "execution_count": null,
      "metadata": {
        "id": "8RgOQlxZBT2_"
      },
      "outputs": [],
      "source": [
        "# corrects the folders in the data.yaml\n",
        "\n",
        "# Path to the YAML file\n",
        "yaml_file_path = DATASET_DIR + 'data.yaml'\n",
        "\n",
        "# Read the YAML file\n",
        "with open(DATA_YAML) as file:\n",
        "    data = yaml.safe_load(file)\n",
        "\n",
        "# Update the paths\n",
        "data['train'] = DATASET_DIR + '/train/images'\n",
        "data['val'] = DATASET_DIR + '/valid/images'\n",
        "data['test'] = DATASET_DIR + '/test/images'\n",
        "\n",
        "# Write the updated data back to the YAML file\n",
        "with open(DATA_YAML, 'w') as file:\n",
        "    yaml.dump(data, file)\n",
        "\n",
        "print(\"Updated data.yaml successfully.\")\n"
      ]
    },
    {
      "cell_type": "markdown",
      "metadata": {
        "id": "9umqRYP3sLjn"
      },
      "source": [
        "## Train a new model"
      ]
    },
    {
      "cell_type": "code",
      "execution_count": null,
      "metadata": {
        "id": "sqljRZ8EsKjA"
      },
      "outputs": [],
      "source": [
        "# Variables already set, but u can run to re-train just this cell and modify the vars (not recommended!)\n",
        "#TRAIN_MODEL = \"yolov8s\"\n",
        "#TRAIN_EPOCHS = 1\n",
        "#TRAIN_SIZE = 320\n",
        "\n",
        "# Load a yolo model as base\n",
        "modelpt = BASE_MODEL + \".pt\"\n",
        "model = YOLO(modelpt)\n",
        "\n",
        "# train the model\n",
        "model.train(data=DATA_YAML, epochs=TRAIN_EPOCHS, imgsz=TRAIN_SIZE)"
      ]
    },
    {
      "cell_type": "markdown",
      "metadata": {
        "id": "LutxsbCrrMkN"
      },
      "source": [
        "## Save the model to Google Drive"
      ]
    },
    {
      "cell_type": "code",
      "execution_count": null,
      "metadata": {
        "id": "4379p7bbSZl8"
      },
      "outputs": [],
      "source": [
        "# Get latest run dir\n",
        "base_dir = '/content/runs/detect'\n",
        "latest_run_dir = max([os.path.join(base_dir, d) for d in os.listdir(base_dir) if os.path.isdir(os.path.join(base_dir, d))], key=os.path.getmtime)\n",
        "print(latest_run_dir)\n",
        "\n",
        "# modify if there is an error\n",
        "#latest_run_dir = \"/content/runs/detect/train3\"\n",
        "\n",
        "# Define the base directory where the runs are stored\n",
        "TRAINED_WEIGHTS = latest_run_dir + \"/weights/\" + \"best.pt\"\n",
        "\n",
        "# Construct the path to the best weights file\n",
        "print(\"Original trained weights path: \", TRAINED_WEIGHTS)"
      ]
    },
    {
      "cell_type": "code",
      "execution_count": null,
      "metadata": {
        "id": "OYruaz-4DOfe"
      },
      "outputs": [],
      "source": [
        "# Get the current timestamp\n",
        "timestamp = datetime.now().strftime(\"%Y%m%d_%H%M%S\")\n",
        "\n",
        "# Construct the new file name with timestamp\n",
        "new_file_name = f\"TTmodel2_{BASE_MODEL}_img{TRAIN_SIZE}_{timestamp}.pt\"\n",
        "new_file_path = os.path.join(latest_run_dir, 'weights', new_file_name)\n",
        "\n",
        "# Copy the file with timestamp in the same directory\n",
        "shutil.copy2(TRAINED_WEIGHTS, new_file_path)\n",
        "print(\"New file path with timestamp: \", new_file_path)\n",
        "\n",
        "# Make sure the target folder exists\n",
        "if not os.path.exists(google_drive_target_folder):\n",
        "    os.makedirs(google_drive_target_folder)\n",
        "\n",
        "# Construct the target file path in Google Drive\n",
        "google_drive_target_path = os.path.join(google_drive_target_folder, new_file_name)\n",
        "\n",
        "# Copy the file to Google Drive\n",
        "shutil.copy2(new_file_path, google_drive_target_path)\n",
        "print(\"Model file copied to Google Drive: \", google_drive_target_path)"
      ]
    },
    {
      "cell_type": "markdown",
      "metadata": {
        "id": "z65WQBe3JkZL"
      },
      "source": [
        "## Evaluate Performance"
      ]
    },
    {
      "cell_type": "code",
      "execution_count": null,
      "metadata": {
        "id": "cmSPKakImEdC"
      },
      "outputs": [],
      "source": [
        "# Evaluate the model's performance on the validation set\n",
        "metrics = model.val()  # no arguments needed, dataset and settings remembered\n",
        "metrics.box.map    # map50-95\n",
        "metrics.box.map50  # map50\n",
        "metrics.box.map75  # map75\n",
        "metrics.box.maps   # a list contains map50-95 of each category"
      ]
    },
    {
      "cell_type": "markdown",
      "metadata": {
        "id": "GtE7ahQtL4xQ"
      },
      "source": [
        "Testing on 3 random files"
      ]
    },
    {
      "cell_type": "code",
      "execution_count": null,
      "metadata": {
        "id": "nvHKjSONJjrx"
      },
      "outputs": [],
      "source": [
        "# Define the path to the test images directory\n",
        "test_images_dir = DATASET_DIR + \"/test/images\"\n",
        "\n",
        "# Get a list of all files in the test images directory\n",
        "all_test_images = os.listdir(test_images_dir)\n",
        "\n",
        "# Randomly select 3 images\n",
        "random_test_images = random.sample(all_test_images, 3)\n",
        "\n",
        "# Predict on each of the 3 random images\n",
        "for image_name in random_test_images:\n",
        "    image_path = os.path.join(test_images_dir, image_name)\n",
        "    results = model(image_path)  # Perform prediction\n",
        "    print(f\"Results for {image_name}:\")\n",
        "    print(results)  # or use results.show() or results.save() based on your requirement"
      ]
    },
    {
      "cell_type": "markdown",
      "metadata": {
        "id": "UA4nUUTBR6tK"
      },
      "source": [
        "## Export the file to OAK-D"
      ]
    },
    {
      "cell_type": "code",
      "execution_count": null,
      "metadata": {
        "id": "RjIA0AbGRL6z"
      },
      "outputs": [],
      "source": [
        "print(\"\\nGo to Tool at http://tools.luxonis.com/ and make a export of the downloaded model file \" + new_file_name + \" for the OAK-Camera.\")\n",
        "print(\"\\nPro Tipps to use the Luxonis tool: \\n  *) choose the correct Yolo Version (example: YoloV8 detection only)\\n  *) choose the correct image shape (example: \"+ str(TRAIN_SIZE) + \")\\n  *) edit the advanced options, choose 6 shaves and deactivate OpenVINO 2021.4 checkbox.\\n\\n\")\n",
        "\n",
        "files.download(new_file_path)"
      ]
    },
    {
      "cell_type": "code",
      "execution_count": null,
      "metadata": {
        "id": "2yMQr_NgY6Ga"
      },
      "outputs": [],
      "source": [
        "# for other use cases u can follow the ONNX path https://docs.luxonis.com/en/latest/pages/model_conversion/#converting-model-to-myriadx-blob\n",
        "# converts the model to onnx\n",
        "'''\n",
        "path = model.export(format=\"onnx\")  # export the model to ONNX format\n",
        "TRAINED_WEIGHTS_ONNX = latest_run_dir + \"/weights/\" + \"best.onnx\"\n",
        "files.download(TRAINED_WEIGHTS_ONNX)\n",
        "'''"
      ]
    },
    {
      "cell_type": "code",
      "execution_count": null,
      "metadata": {
        "id": "3v9whET5mdAo"
      },
      "outputs": [],
      "source": [
        "# Benchmark on GPU\n",
        "# deactivated, cause needs a lot of time\n",
        "\n",
        "benchmark(model=TRAINED_WEIGHTS, data=DATA_YAML, imgsz=TRAIN_SIZE, half=False, device=0)\n"
      ]
    },
    {
      "cell_type": "code",
      "execution_count": null,
      "metadata": {
        "id": "Yi7ULO68vBTV"
      },
      "outputs": [],
      "source": [
        "# https://docs.ultralytics.com/guides/hyperparameter-tuning/#usage-example"
      ]
    },
    {
      "cell_type": "markdown",
      "metadata": {
        "id": "34x81CVAMrQ3"
      },
      "source": [
        "# END"
      ]
    }
  ],
  "metadata": {
    "accelerator": "GPU",
    "colab": {
      "provenance": [],
      "authorship_tag": "ABX9TyNbxb/KmUmSprt8gJ0xt5hj",
      "include_colab_link": true
    },
    "kernelspec": {
      "display_name": "Python 3",
      "name": "python3"
    },
    "language_info": {
      "name": "python"
    }
  },
  "nbformat": 4,
  "nbformat_minor": 0
}